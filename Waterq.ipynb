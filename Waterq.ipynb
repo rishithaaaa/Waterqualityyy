{
 "cells": [
  {
   "cell_type": "code",
   "execution_count": 178,
   "metadata": {
    "execution": {
     "iopub.execute_input": "2023-01-25T16:06:16.598860Z",
     "iopub.status.busy": "2023-01-25T16:06:16.598404Z",
     "iopub.status.idle": "2023-01-25T16:06:17.179209Z",
     "shell.execute_reply": "2023-01-25T16:06:17.177572Z",
     "shell.execute_reply.started": "2023-01-25T16:06:16.598818Z"
    }
   },
   "outputs": [],
   "source": [
    "import numpy as np\n",
    "import pandas as pd\n",
    "import matplotlib.pyplot as plt\n",
    "import seaborn as sns"
   ]
  },
  {
   "cell_type": "code",
   "execution_count": 179,
   "metadata": {
    "execution": {
     "iopub.execute_input": "2023-01-25T16:06:26.597830Z",
     "iopub.status.busy": "2023-01-25T16:06:26.597338Z",
     "iopub.status.idle": "2023-01-25T16:06:26.615531Z",
     "shell.execute_reply": "2023-01-25T16:06:26.613814Z",
     "shell.execute_reply.started": "2023-01-25T16:06:26.597792Z"
    }
   },
   "outputs": [],
   "source": [
    "df=pd.read_csv(\"water_potability.csv\")\n",
    "# df1=df.copy()"
   ]
  },
  {
   "cell_type": "code",
   "execution_count": 180,
   "metadata": {},
   "outputs": [],
   "source": [
    "df.drop(3014,inplace=True)"
   ]
  },
  {
   "cell_type": "code",
   "execution_count": 181,
   "metadata": {},
   "outputs": [],
   "source": [
    "df_1 =df[df['Potability']==1]\n",
    "df_0 = df[df['Potability']==0]\n",
    "# no_water = df.dropna()\n",
    "cols = list(df_1.columns)"
   ]
  },
  {
   "cell_type": "code",
   "execution_count": 182,
   "metadata": {},
   "outputs": [],
   "source": [
    "def change(df_1,column, upper_limit,lis,lower_limit):\n",
    "    for i in range(len(df_1)):\n",
    "        x = df_1.iloc[i:i+1][column].values[0]\n",
    "        if (x>=upper_limit):\n",
    "            lis[i] = 0\n",
    "        if(column=='ph'):\n",
    "            if(x<=lower_limit):\n",
    "                lis[i] = 0\n",
    "    return lis"
   ]
  },
  {
   "cell_type": "code",
   "execution_count": 183,
   "metadata": {},
   "outputs": [
    {
     "name": "stdout",
     "output_type": "stream",
     "text": [
      "ph 10.563701112307495 3.5486786568579656\n",
      "Hardness 283.5127538042832 108.82119802510387\n",
      "Solids 46429.61356370653 -2787.3920824244906\n",
      "Chloramines 11.356953261826861 2.9364417441007067\n",
      "Sulfate 463.70770741945415 202.99741059989327\n",
      "Conductivity 668.981243898836 176.11368975582258\n",
      "Organic_carbon 22.83976790942959 5.550374644552143\n",
      "Trihalomethanes 109.43106477190084 23.96415954481703\n",
      "Turbidity 6.127557485528579 1.8129204506468555\n"
     ]
    }
   ],
   "source": [
    "lis = df_1['Potability'].values\n",
    "lis1 = df_0['Potability'].values\n",
    "for i in cols[:-1]:\n",
    "    Q1 = df_1[i].quantile(0.25)\n",
    "    Q3 =df_1[i].quantile(0.75)\n",
    "    iqr = Q3 - Q1\n",
    "    upper_limit = Q3 + 1.5* iqr\n",
    "    lower_limit = Q1 - 1.5 * iqr\n",
    "    print(i,upper_limit,lower_limit)\n",
    "    lis = change(df_1,i,upper_limit, lis, lower_limit)\n",
    "# print(len(lis))"
   ]
  },
  {
   "cell_type": "code",
   "execution_count": 184,
   "metadata": {},
   "outputs": [],
   "source": [
    "dff=pd.DataFrame()   \n",
    "for i in cols:\n",
    "    dff[i] = df_1[i]\n",
    "# df['Potability'] = lis \n",
    "# dff.shape"
   ]
  },
  {
   "cell_type": "code",
   "execution_count": 185,
   "metadata": {},
   "outputs": [],
   "source": [
    "dff['Potability'] = lis"
   ]
  },
  {
   "cell_type": "code",
   "execution_count": 186,
   "metadata": {},
   "outputs": [],
   "source": [
    "final_df = pd.concat([df_0, dff])\n",
    "final_df1 = final_df[final_df['Potability']==1]\n",
    "final_df2 = final_df[final_df['Potability']==0]"
   ]
  },
  {
   "cell_type": "code",
   "execution_count": 187,
   "metadata": {},
   "outputs": [],
   "source": [
    "df1=dff.dropna()\n",
    "df2=df1[df1['Potability']==1]"
   ]
  },
  {
   "cell_type": "code",
   "execution_count": 188,
   "metadata": {},
   "outputs": [
    {
     "name": "stderr",
     "output_type": "stream",
     "text": [
      "C:\\Users\\mamid\\anaconda3\\lib\\site-packages\\pandas\\core\\frame.py:5176: SettingWithCopyWarning: \n",
      "A value is trying to be set on a copy of a slice from a DataFrame\n",
      "\n",
      "See the caveats in the documentation: https://pandas.pydata.org/pandas-docs/stable/user_guide/indexing.html#returning-a-view-versus-a-copy\n",
      "  return super().fillna(\n"
     ]
    }
   ],
   "source": [
    "for i in cols:\n",
    "    final_df1.fillna(df2[i].mean(),inplace=True)"
   ]
  },
  {
   "cell_type": "code",
   "execution_count": 189,
   "metadata": {
    "scrolled": true
   },
   "outputs": [
    {
     "name": "stdout",
     "output_type": "stream",
     "text": [
      "13.999999999999998\n",
      "304.23591211231667\n",
      "61227.19600771213\n",
      "12.653362021943142\n",
      "460.1070689926536\n",
      "753.3426195583046\n",
      "28.30000000000001\n",
      "120.03007700530677\n",
      "6.739\n",
      "0\n"
     ]
    },
    {
     "name": "stderr",
     "output_type": "stream",
     "text": [
      "C:\\Users\\mamid\\anaconda3\\lib\\site-packages\\pandas\\core\\generic.py:6392: SettingWithCopyWarning: \n",
      "A value is trying to be set on a copy of a slice from a DataFrame\n",
      "\n",
      "See the caveats in the documentation: https://pandas.pydata.org/pandas-docs/stable/user_guide/indexing.html#returning-a-view-versus-a-copy\n",
      "  return self._update_inplace(result)\n"
     ]
    }
   ],
   "source": [
    "for i in cols:\n",
    "    cx = df_0[i].max()\n",
    "    print(cx)\n",
    "    final_df2[i].fillna(float(cx), inplace = True)"
   ]
  },
  {
   "cell_type": "code",
   "execution_count": 190,
   "metadata": {},
   "outputs": [
    {
     "data": {
      "text/html": [
       "<div>\n",
       "<style scoped>\n",
       "    .dataframe tbody tr th:only-of-type {\n",
       "        vertical-align: middle;\n",
       "    }\n",
       "\n",
       "    .dataframe tbody tr th {\n",
       "        vertical-align: top;\n",
       "    }\n",
       "\n",
       "    .dataframe thead th {\n",
       "        text-align: right;\n",
       "    }\n",
       "</style>\n",
       "<table border=\"1\" class=\"dataframe\">\n",
       "  <thead>\n",
       "    <tr style=\"text-align: right;\">\n",
       "      <th></th>\n",
       "      <th>ph</th>\n",
       "      <th>Hardness</th>\n",
       "      <th>Solids</th>\n",
       "      <th>Chloramines</th>\n",
       "      <th>Sulfate</th>\n",
       "      <th>Conductivity</th>\n",
       "      <th>Organic_carbon</th>\n",
       "      <th>Trihalomethanes</th>\n",
       "      <th>Turbidity</th>\n",
       "      <th>Potability</th>\n",
       "    </tr>\n",
       "  </thead>\n",
       "  <tbody>\n",
       "    <tr>\n",
       "      <th>0</th>\n",
       "      <td>9.445130</td>\n",
       "      <td>145.805402</td>\n",
       "      <td>13168.529156</td>\n",
       "      <td>9.444471</td>\n",
       "      <td>310.583374</td>\n",
       "      <td>592.659021</td>\n",
       "      <td>8.606397</td>\n",
       "      <td>77.577460</td>\n",
       "      <td>3.875165</td>\n",
       "      <td>1</td>\n",
       "    </tr>\n",
       "    <tr>\n",
       "      <th>1</th>\n",
       "      <td>9.024845</td>\n",
       "      <td>128.096691</td>\n",
       "      <td>19859.676476</td>\n",
       "      <td>8.016423</td>\n",
       "      <td>300.150377</td>\n",
       "      <td>451.143481</td>\n",
       "      <td>14.770863</td>\n",
       "      <td>73.778026</td>\n",
       "      <td>3.985251</td>\n",
       "      <td>1</td>\n",
       "    </tr>\n",
       "    <tr>\n",
       "      <th>2</th>\n",
       "      <td>7.085586</td>\n",
       "      <td>169.974849</td>\n",
       "      <td>23403.637304</td>\n",
       "      <td>8.519730</td>\n",
       "      <td>7.085586</td>\n",
       "      <td>475.573562</td>\n",
       "      <td>12.924107</td>\n",
       "      <td>50.861913</td>\n",
       "      <td>2.747313</td>\n",
       "      <td>1</td>\n",
       "    </tr>\n",
       "    <tr>\n",
       "      <th>3</th>\n",
       "      <td>6.800119</td>\n",
       "      <td>242.008082</td>\n",
       "      <td>39143.403329</td>\n",
       "      <td>9.501695</td>\n",
       "      <td>187.170714</td>\n",
       "      <td>376.456593</td>\n",
       "      <td>11.432466</td>\n",
       "      <td>73.777275</td>\n",
       "      <td>3.854940</td>\n",
       "      <td>1</td>\n",
       "    </tr>\n",
       "    <tr>\n",
       "      <th>4</th>\n",
       "      <td>7.174135</td>\n",
       "      <td>203.408935</td>\n",
       "      <td>20401.102461</td>\n",
       "      <td>7.681806</td>\n",
       "      <td>287.085679</td>\n",
       "      <td>315.549900</td>\n",
       "      <td>14.533510</td>\n",
       "      <td>74.405616</td>\n",
       "      <td>3.939896</td>\n",
       "      <td>1</td>\n",
       "    </tr>\n",
       "    <tr>\n",
       "      <th>...</th>\n",
       "      <td>...</td>\n",
       "      <td>...</td>\n",
       "      <td>...</td>\n",
       "      <td>...</td>\n",
       "      <td>...</td>\n",
       "      <td>...</td>\n",
       "      <td>...</td>\n",
       "      <td>...</td>\n",
       "      <td>...</td>\n",
       "      <td>...</td>\n",
       "    </tr>\n",
       "    <tr>\n",
       "      <th>3270</th>\n",
       "      <td>4.767472</td>\n",
       "      <td>256.449917</td>\n",
       "      <td>48007.868134</td>\n",
       "      <td>5.773180</td>\n",
       "      <td>460.107069</td>\n",
       "      <td>590.429550</td>\n",
       "      <td>16.541561</td>\n",
       "      <td>44.938586</td>\n",
       "      <td>3.893378</td>\n",
       "      <td>0</td>\n",
       "    </tr>\n",
       "    <tr>\n",
       "      <th>3271</th>\n",
       "      <td>10.667364</td>\n",
       "      <td>173.381945</td>\n",
       "      <td>28912.202201</td>\n",
       "      <td>7.071294</td>\n",
       "      <td>276.634391</td>\n",
       "      <td>286.063394</td>\n",
       "      <td>17.685651</td>\n",
       "      <td>55.147364</td>\n",
       "      <td>4.135569</td>\n",
       "      <td>0</td>\n",
       "    </tr>\n",
       "    <tr>\n",
       "      <th>3272</th>\n",
       "      <td>10.808157</td>\n",
       "      <td>198.596751</td>\n",
       "      <td>29614.348790</td>\n",
       "      <td>5.782418</td>\n",
       "      <td>304.622061</td>\n",
       "      <td>383.269410</td>\n",
       "      <td>14.902820</td>\n",
       "      <td>47.896406</td>\n",
       "      <td>4.362542</td>\n",
       "      <td>0</td>\n",
       "    </tr>\n",
       "    <tr>\n",
       "      <th>3273</th>\n",
       "      <td>11.491011</td>\n",
       "      <td>94.812545</td>\n",
       "      <td>37188.826022</td>\n",
       "      <td>9.263166</td>\n",
       "      <td>258.930600</td>\n",
       "      <td>439.893618</td>\n",
       "      <td>16.172755</td>\n",
       "      <td>41.558501</td>\n",
       "      <td>4.369264</td>\n",
       "      <td>0</td>\n",
       "    </tr>\n",
       "    <tr>\n",
       "      <th>3274</th>\n",
       "      <td>4.668102</td>\n",
       "      <td>193.681735</td>\n",
       "      <td>47580.991603</td>\n",
       "      <td>7.166639</td>\n",
       "      <td>359.948574</td>\n",
       "      <td>526.424171</td>\n",
       "      <td>13.894419</td>\n",
       "      <td>66.687695</td>\n",
       "      <td>4.435821</td>\n",
       "      <td>0</td>\n",
       "    </tr>\n",
       "  </tbody>\n",
       "</table>\n",
       "<p>3275 rows × 10 columns</p>\n",
       "</div>"
      ],
      "text/plain": [
       "             ph    Hardness        Solids  Chloramines     Sulfate  \\\n",
       "0      9.445130  145.805402  13168.529156     9.444471  310.583374   \n",
       "1      9.024845  128.096691  19859.676476     8.016423  300.150377   \n",
       "2      7.085586  169.974849  23403.637304     8.519730    7.085586   \n",
       "3      6.800119  242.008082  39143.403329     9.501695  187.170714   \n",
       "4      7.174135  203.408935  20401.102461     7.681806  287.085679   \n",
       "...         ...         ...           ...          ...         ...   \n",
       "3270   4.767472  256.449917  48007.868134     5.773180  460.107069   \n",
       "3271  10.667364  173.381945  28912.202201     7.071294  276.634391   \n",
       "3272  10.808157  198.596751  29614.348790     5.782418  304.622061   \n",
       "3273  11.491011   94.812545  37188.826022     9.263166  258.930600   \n",
       "3274   4.668102  193.681735  47580.991603     7.166639  359.948574   \n",
       "\n",
       "      Conductivity  Organic_carbon  Trihalomethanes  Turbidity  Potability  \n",
       "0       592.659021        8.606397        77.577460   3.875165           1  \n",
       "1       451.143481       14.770863        73.778026   3.985251           1  \n",
       "2       475.573562       12.924107        50.861913   2.747313           1  \n",
       "3       376.456593       11.432466        73.777275   3.854940           1  \n",
       "4       315.549900       14.533510        74.405616   3.939896           1  \n",
       "...            ...             ...              ...        ...         ...  \n",
       "3270    590.429550       16.541561        44.938586   3.893378           0  \n",
       "3271    286.063394       17.685651        55.147364   4.135569           0  \n",
       "3272    383.269410       14.902820        47.896406   4.362542           0  \n",
       "3273    439.893618       16.172755        41.558501   4.369264           0  \n",
       "3274    526.424171       13.894419        66.687695   4.435821           0  \n",
       "\n",
       "[3275 rows x 10 columns]"
      ]
     },
     "execution_count": 190,
     "metadata": {},
     "output_type": "execute_result"
    }
   ],
   "source": [
    "f = pd.concat([final_df1, final_df2],ignore_index=True)\n",
    "f"
   ]
  },
  {
   "cell_type": "code",
   "execution_count": 191,
   "metadata": {},
   "outputs": [],
   "source": [
    "x=f.drop(['Potability'],axis=1)\n",
    "y=f['Potability']"
   ]
  },
  {
   "cell_type": "code",
   "execution_count": 192,
   "metadata": {
    "execution": {
     "iopub.execute_input": "2023-01-25T16:08:13.297022Z",
     "iopub.status.busy": "2023-01-25T16:08:13.296625Z",
     "iopub.status.idle": "2023-01-25T16:08:13.414938Z",
     "shell.execute_reply": "2023-01-25T16:08:13.413735Z",
     "shell.execute_reply.started": "2023-01-25T16:08:13.296983Z"
    }
   },
   "outputs": [],
   "source": [
    "from sklearn.model_selection import train_test_split\n",
    "# x_train, x_test, y_train, y_test = train_test_split(fi1.iloc[:,:-1], fi1['Potability'], test_size = 0.25)\n"
   ]
  },
  {
   "cell_type": "code",
   "execution_count": 193,
   "metadata": {},
   "outputs": [
    {
     "name": "stdout",
     "output_type": "stream",
     "text": [
      "0.8315018315018315\n"
     ]
    }
   ],
   "source": [
    "from xgboost.sklearn import XGBClassifier\n",
    "from sklearn.metrics import accuracy_score\n",
    "x_train, x_test, y_train, y_test = train_test_split(x, y, test_size = 0.25,random_state=88)\n",
    "Xgb = XGBClassifier(max_depth=8, n_estimators =51,random_state=199)\n",
    "Xgb.fit(x_train,y_train)\n",
    "y_pred = Xgb.predict(x_test)\n",
    "c = float(accuracy_score(y_test,y_pred))\n",
    "print(c)"
   ]
  },
  {
   "cell_type": "code",
   "execution_count": 194,
   "metadata": {},
   "outputs": [],
   "source": [
    "import pickle\n",
    "pickle_out=open(\"clsxgb.pkl\",\"wb\")\n",
    "pickle.dump(Xgb,pickle_out)\n",
    "pickle_out.close()"
   ]
  },
  {
   "cell_type": "code",
   "execution_count": 195,
   "metadata": {},
   "outputs": [
    {
     "data": {
      "text/plain": [
       "0.8412698412698413"
      ]
     },
     "execution_count": 195,
     "metadata": {},
     "output_type": "execute_result"
    }
   ],
   "source": [
    "from sklearn.ensemble import RandomForestClassifier\n",
    "from sklearn.metrics import accuracy_score\n",
    "x_train, x_test, y_train, y_test = train_test_split(x,y, test_size = 0.25,random_state=49)\n",
    "rfc = RandomForestClassifier(n_estimators= 117,\n",
    " max_features= 0.6, criterion=\"entropy\",\n",
    " max_depth= 8,\n",
    " bootstrap= True,random_state=13);\n",
    "rfc.fit(x_train, y_train)\n",
    "y_pred = rfc.predict(x_test)\n",
    "accuracy_score(y_pred, y_test)\n"
   ]
  },
  {
   "cell_type": "code",
   "execution_count": 196,
   "metadata": {},
   "outputs": [],
   "source": [
    "import pickle\n",
    "pickle_out=open(\"clsrf.pkl\",\"wb\")\n",
    "pickle.dump(rfc,pickle_out)\n",
    "pickle_out.close()"
   ]
  },
  {
   "cell_type": "code",
   "execution_count": 197,
   "metadata": {},
   "outputs": [
    {
     "name": "stderr",
     "output_type": "stream",
     "text": [
      "C:\\Users\\mamid\\anaconda3\\lib\\site-packages\\sklearn\\linear_model\\_sag.py:352: ConvergenceWarning: The max_iter was reached which means the coef_ did not converge\n",
      "  warnings.warn(\n"
     ]
    },
    {
     "data": {
      "text/plain": [
       "0.7572519083969466"
      ]
     },
     "execution_count": 197,
     "metadata": {},
     "output_type": "execute_result"
    }
   ],
   "source": [
    "from sklearn.linear_model import LogisticRegression\n",
    "x_train, x_test, y_train, y_test = train_test_split(x, y, test_size = 0.2,random_state=177)\n",
    "log_clf = LogisticRegression(random_state=190,solver='saga',max_iter=100)\n",
    "log_clf.fit(x_train,y_train)\n",
    "y_predl=log_clf.predict(x_test)\n",
    "accuracy_score(y_predl, y_test)\n"
   ]
  },
  {
   "cell_type": "code",
   "execution_count": 198,
   "metadata": {},
   "outputs": [],
   "source": [
    "import pickle\n",
    "pickle_out=open(\"clslr.pkl\",\"wb\")\n",
    "pickle.dump(log_clf,pickle_out)\n",
    "pickle_out.close()"
   ]
  },
  {
   "cell_type": "code",
   "execution_count": 199,
   "metadata": {},
   "outputs": [],
   "source": [
    "# op={}\n",
    "# # from sklearn.linear_model import LogisticRegression\n",
    "# for i in range(300,400):\n",
    "#     x_train, x_test, y_train, y_test = train_test_split(x, y, test_size = 0.25,random_state=88)\n",
    "#     Xgb = XGBClassifier(max_depth=8, n_estimators =51,random_state=i)\n",
    "#     Xgb.fit(x_train,y_train)\n",
    "#     y_pred = Xgb.predict(x_test)\n",
    "# #     c = float(accuracy_score(y_test,y_pred))\n",
    "#     a=accuracy_score(y_pred, y_test)\n",
    "#     op.update({a:i})\n",
    "# for k,v in op.items():    \n",
    "#     if k==max(list(op.keys())):\n",
    "#         print(k,v)"
   ]
  },
  {
   "cell_type": "code",
   "execution_count": 200,
   "metadata": {},
   "outputs": [
    {
     "ename": "SyntaxError",
     "evalue": "invalid syntax (867294238.py, line 1)",
     "output_type": "error",
     "traceback": [
      "\u001b[1;36m  Input \u001b[1;32mIn [200]\u001b[1;36m\u001b[0m\n\u001b[1;33m    83 88\u001b[0m\n\u001b[1;37m       ^\u001b[0m\n\u001b[1;31mSyntaxError\u001b[0m\u001b[1;31m:\u001b[0m invalid syntax\n"
     ]
    }
   ],
   "source": [
    "83 88\n",
    "83 499\n",
    "0.74 49\n",
    "75 177"
   ]
  }
 ],
 "metadata": {
  "kernelspec": {
   "display_name": "Python 3 (ipykernel)",
   "language": "python",
   "name": "python3"
  },
  "language_info": {
   "codemirror_mode": {
    "name": "ipython",
    "version": 3
   },
   "file_extension": ".py",
   "mimetype": "text/x-python",
   "name": "python",
   "nbconvert_exporter": "python",
   "pygments_lexer": "ipython3",
   "version": "3.9.12"
  }
 },
 "nbformat": 4,
 "nbformat_minor": 4
}
